{
 "cells": [
  {
   "cell_type": "code",
   "execution_count": 1,
   "metadata": {},
   "outputs": [],
   "source": [
    "import os\n",
    "import pandas as pd\n",
    "import matplotlib.pyplot as plt\n",
    "\n",
    "from scipy import stats\n",
    "from utils.print import print_block\n",
    "from data.dataset import REFLACXWithClinicalDataset\n",
    "from utils.gradcam import get_df_label_pred_img_input_loss, show_gradCAMpp_result\n",
    "\n",
    "from tqdm.notebook import tqdm\n",
    "from utils.plot import relabel_ellipse_df, get_ellipses_patch\n",
    "from utils.transform import TransformFuncs\n",
    "from copy import copy\n",
    "import numpy as np\n",
    "from sklearn.metrics import accuracy_score, roc_auc_score, confusion_matrix, ConfusionMatrixDisplay\n",
    "import torch\n",
    "from model.xami import XAMIMultiCocatModal\n",
    "from utils.gradcam import get_df_label_pred_img_input_loss, show_gradCAMpp_result\n",
    "from utils.train import get_aus_loss\n",
    "import shutil\n"
   ]
  },
  {
   "cell_type": "code",
   "execution_count": 2,
   "metadata": {},
   "outputs": [
    {
     "name": "stdout",
     "output_type": "stream",
     "text": [
      "Will be using cuda\n"
     ]
    }
   ],
   "source": [
    "pd.options.mode.chained_assignment = None\n",
    "\n",
    "# checking if the GPU is available\n",
    "use_gpu = torch.cuda.is_available()\n",
    "device = 'cuda' if use_gpu else 'cpu'\n",
    "print(f\"Will be using {device}\")"
   ]
  },
  {
   "cell_type": "code",
   "execution_count": 3,
   "metadata": {},
   "outputs": [
    {
     "name": "stdout",
     "output_type": "stream",
     "text": [
      "Positive Loss weight:\n",
      "[0.768546   0.78635013 0.7937685  0.8338279  0.87388724]\n",
      "Negative Loss weight:\n",
      "[0.231454   0.21364985 0.20623146 0.1661721  0.12611276]\n",
      "Random Loss:\n",
      "0.21026036153991162\n"
     ]
    }
   ],
   "source": [
    "reflacx_dataset = REFLACXWithClinicalDataset(image_size=256)"
   ]
  },
  {
   "cell_type": "code",
   "execution_count": 8,
   "metadata": {},
   "outputs": [
    {
     "data": {
      "text/plain": [
       "590"
      ]
     },
     "execution_count": 8,
     "metadata": {},
     "output_type": "execute_result"
    }
   ],
   "source": [
    "len(reflacx_dataset.df['dicom_id'].unique())"
   ]
  },
  {
   "cell_type": "code",
   "execution_count": 4,
   "metadata": {},
   "outputs": [],
   "source": [
    "cxr_prefix = \"cxr\"\n",
    "cxr_clinical_prefix =\"cxr_clinical\"\n",
    "\n",
    "cxr_model_name = 'test_0_8162_epoch300_WithoutClincal_dim32_2022-02-07 21_43_31_353207'\n",
    "cxr_clinical_model_name = 'test_0_8260__epoch300_WithClincal_dim32_2022-02-08 10_03_56_953198'"
   ]
  },
  {
   "cell_type": "code",
   "execution_count": 5,
   "metadata": {},
   "outputs": [],
   "source": [
    "experiment_df = pd.read_csv('Experiment_Image_Only.csv')"
   ]
  },
  {
   "cell_type": "code",
   "execution_count": 6,
   "metadata": {},
   "outputs": [],
   "source": [
    "# we first get the folder to save the result.\n",
    "result_saving_destination = './experiment_gramcam_with_diseases'\n",
    "os.makedirs(result_saving_destination, exist_ok=True) \n",
    "\n",
    "for _, case in experiment_df.iterrows():\n",
    "\n",
    "    # get the positive diseases. \n",
    "    positive_diseases = [ col  for col in  reflacx_dataset.labels_cols if case[col] ]\n",
    "\n",
    "    for model_path in [cxr_model_name, cxr_clinical_model_name]:\n",
    "\n",
    "        for d in positive_diseases:\n",
    "\n",
    "            retrieving_folder = f'{model_path}_result'\n",
    "            destination_folder = os.path.join(result_saving_destination, retrieving_folder, case['ENCODING'])\n",
    "\n",
    "            os.makedirs(destination_folder, exist_ok=True)\n",
    "\n",
    "            file_name=  f'{d}_cxr_gradcampp.png'\n",
    "\n",
    "            grad_cam_image_path = os.path.join(retrieving_folder,case['id'], file_name) \n",
    "\n",
    "            shutil.copyfile(grad_cam_image_path, os.path.join    (destination_folder,  file_name))\n"
   ]
  },
  {
   "cell_type": "code",
   "execution_count": null,
   "metadata": {},
   "outputs": [],
   "source": []
  }
 ],
 "metadata": {
  "interpreter": {
   "hash": "7a402e4e4296f2d4bed1c089fb7c7e828933dcbfe50698b381e393c052eea855"
  },
  "kernelspec": {
   "display_name": "Python 3.9.7 ('pytorch')",
   "language": "python",
   "name": "python3"
  },
  "language_info": {
   "codemirror_mode": {
    "name": "ipython",
    "version": 3
   },
   "file_extension": ".py",
   "mimetype": "text/x-python",
   "name": "python",
   "nbconvert_exporter": "python",
   "pygments_lexer": "ipython3",
   "version": "3.9.7"
  },
  "orig_nbformat": 4
 },
 "nbformat": 4,
 "nbformat_minor": 2
}
