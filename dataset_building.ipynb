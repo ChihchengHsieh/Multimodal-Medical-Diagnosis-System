{
 "cells": [
  {
   "cell_type": "code",
   "execution_count": 2,
   "metadata": {},
   "outputs": [
    {
     "name": "stderr",
     "output_type": "stream",
     "text": [
      "C:\\Users\\mike8\\anaconda3\\envs\\pytorch\\lib\\site-packages\\torchvision\\io\\image.py:11: UserWarning: Failed to load image Python extension: Could not find module 'C:\\Users\\mike8\\anaconda3\\envs\\pytorch\\Lib\\site-packages\\torchvision\\image.pyd' (or one of its dependencies). Try using the full path with constructor syntax.\n",
      "  warn(f\"Failed to load image Python extension: {e}\")\n"
     ]
    }
   ],
   "source": [
    "\n",
    "import pandas as pd\n",
    "import numpy as np\n",
    "import torch\n",
    "import torch.nn as nn\n",
    "import torch.utils.data as data\n",
    "import torchvision.transforms as transforms\n",
    "import sklearn.metrics\n",
    "from sklearn.preprocessing import LabelEncoder\n",
    "\n",
    "import os\n",
    "from PIL import Image\n",
    "\n",
    "from torch.autograd import Variable\n"
   ]
  },
  {
   "cell_type": "code",
   "execution_count": 14,
   "metadata": {},
   "outputs": [],
   "source": [
    "## Create dataset\n",
    "class REFLACXWithClinicalDataset(data.Dataset):\n",
    "    def __init__(self,\n",
    "        image_size = 224,\n",
    "        clinical_cols =  ['age', 'gender', 'temperature', 'heartrate', 'resprate',\n",
    "       'o2sat', 'sbp', 'dbp', 'pain', 'acuity'],\n",
    "        clinical_numerical_cols = ['age', 'temperature', 'heartrate', 'resprate', 'o2sat', 'sbp', 'dbp', 'pain', 'acuity'],\n",
    "        clinical_categorical_cols = ['gender'],\n",
    "        labels_cols = [\n",
    "            'Airway wall thickening', 'Atelectasis', 'Consolidation',\n",
    "            'Enlarged cardiac silhouette', 'Fibrosis', 'Fracture',\n",
    "            'Groundglass opacity', 'Pneumothorax', 'Pulmonary edema',\n",
    "            'Quality issue', 'Support devices', 'Wide mediastinum',\n",
    "            'Abnormal mediastinal contour', 'Acute fracture', 'Enlarged hilum',\n",
    "            'Hiatal hernia', 'High lung volume / emphysema',\n",
    "            'Interstitial lung disease', 'Lung nodule or mass',\n",
    "            'Pleural abnormality'\n",
    "        ],\n",
    "        all_disease_cols = [\n",
    "            'Airway wall thickening', 'Atelectasis', 'Consolidation',\n",
    "            'Enlarged cardiac silhouette', 'Fibrosis', 'Fracture',\n",
    "            'Groundglass opacity', 'Pneumothorax', 'Pulmonary edema','Wide mediastinum',\n",
    "            'Abnormal mediastinal contour', 'Acute fracture', 'Enlarged hilum',\n",
    "            'Hiatal hernia', 'High lung volume / emphysema',\n",
    "            'Interstitial lung disease', 'Lung nodule or mass',\n",
    "            'Pleural abnormality'\n",
    "        ],\n",
    "        mode='train',\n",
    "        horizontal_flip = True,\n",
    "     ):\n",
    "        super(REFLACXWithClinicalDataset, self).__init__()\n",
    "\n",
    "        self.image_size = image_size\n",
    "        self.df = pd.read_csv('reflacx_with_clinical.csv', index_col=0)\n",
    "        self.clinical_cols = clinical_cols\n",
    "        self.clinical_numerical_cols = clinical_numerical_cols\n",
    "        self.clinical_categorical_cols = clinical_categorical_cols\n",
    "        self.labels_cols = labels_cols\n",
    "        self.all_disease_cols = all_disease_cols \n",
    "        self.encoder_map = {}\n",
    "        self.mode = mode\n",
    "\n",
    "        normalize = transforms.Normalize(mean=[0.485, 0.456, 0.406],\n",
    "                                         std=[0.229, 0.224, 0.225])\n",
    "        train_transforms_lst = [\n",
    "            transforms.Resize((self.image_size, self.image_size)),\n",
    "            transforms.RandomHorizontalFlip() if horizontal_flip else None,\n",
    "            transforms.ToTensor(),\n",
    "            normalize,\n",
    "        ]\n",
    "        self.train_transform = transforms.Compose([t for t in train_transforms_lst if t])\n",
    "\n",
    "        self.test_transform = transforms.Compose([\n",
    "            transforms.Resize((self.image_size, self.image_size)),\n",
    "            transforms.ToTensor(),\n",
    "            normalize,\n",
    "        ])\n",
    "\n",
    "        self.preprocess_clinical_df()\n",
    "        self.preprocess_label()\n",
    "\n",
    "    def preprocess_clinical_df(self, ):\n",
    "\n",
    "        self.clinical_df = self.df[self.clinical_cols]\n",
    "        self.encoders_map = {}\n",
    "\n",
    "        # encode the categorical cols.\n",
    "        for col in self.clinical_categorical_cols:\n",
    "            le = LabelEncoder()\n",
    "            self.clinical_df[col] = le.fit_transform(self.clinical_df[col])\n",
    "            self.encoders_map[col] = le\n",
    "\n",
    "        self.clinical_df = self.clinical_df[self.clinical_numerical_cols + self.clinical_categorical_cols]\n",
    "        \n",
    "\n",
    "    def preprocess_label(self,):\n",
    "        self.df[self.all_disease_cols] = self.df[self.all_disease_cols].gt(0)\n",
    "\n",
    "\n",
    "    def load_image_array(self, image_path):\n",
    "        return np.asarray(Image.open(image_path))\n",
    "\n",
    "\n",
    "    def plot_image_from_array(self, image_array):\n",
    "        im = Image.fromarray(image_array)\n",
    "        im.show()\n",
    "\n",
    "\n",
    "    def __getitem__(self, index, mode=\"train\"):\n",
    "        # find the df\n",
    "\n",
    "        instance = self.df.iloc[index] \n",
    "\n",
    "        img = Image.open(instance['image_path']).convert(\"RGB\")\n",
    "\n",
    "        label_long_tensor = torch.tensor(np.array(self.df[self.labels_cols].iloc[[index]])).long()\n",
    "\n",
    "        instance_clinical_df = self.clinical_df.iloc[[index]] \n",
    "\n",
    "        return  self.train_transform(img) if mode==\"train\" else self.test_transform(img) , instance_clinical_df, label_long_tensor # we will feed the categorical column to the model, so we keep it in dataframe form.\n",
    "\n",
    "    def __len__(self):\n",
    "        return len(self.df)\n",
    "\n",
    "\n",
    "\n"
   ]
  },
  {
   "cell_type": "code",
   "execution_count": 15,
   "metadata": {},
   "outputs": [
    {
     "name": "stderr",
     "output_type": "stream",
     "text": [
      "C:\\Users\\mike8\\AppData\\Local\\Temp\\ipykernel_9240\\150341558.py:70: SettingWithCopyWarning: \n",
      "A value is trying to be set on a copy of a slice from a DataFrame.\n",
      "Try using .loc[row_indexer,col_indexer] = value instead\n",
      "\n",
      "See the caveats in the documentation: https://pandas.pydata.org/pandas-docs/stable/user_guide/indexing.html#returning-a-view-versus-a-copy\n",
      "  self.clinical_df[col] = le.fit_transform(self.clinical_df[col])\n"
     ]
    }
   ],
   "source": [
    "reflacx_dataset = REFLACXWithClinicalDataset()"
   ]
  },
  {
   "cell_type": "code",
   "execution_count": 16,
   "metadata": {},
   "outputs": [
    {
     "data": {
      "text/plain": [
       "(tensor([[[ 0.3138,  0.3138,  0.1939,  ..., -2.1179, -2.1179, -2.1179],\n",
       "          [ 0.3823,  0.2967,  0.1426,  ..., -2.1179, -2.1179, -2.1179],\n",
       "          [ 0.3823,  0.2624,  0.1254,  ..., -2.1179, -2.1179, -2.1179],\n",
       "          ...,\n",
       "          [ 1.8379,  1.8379,  1.8208,  ...,  2.2489,  2.2489,  2.2489],\n",
       "          [ 1.6495,  1.6324,  1.6153,  ...,  2.2489,  2.2489,  2.2489],\n",
       "          [ 1.3584,  1.3584,  1.3584,  ...,  2.2489,  2.2489,  2.2489]],\n",
       " \n",
       "         [[ 0.4503,  0.4503,  0.3277,  ..., -2.0357, -2.0357, -2.0357],\n",
       "          [ 0.5203,  0.4328,  0.2752,  ..., -2.0357, -2.0357, -2.0357],\n",
       "          [ 0.5203,  0.3978,  0.2577,  ..., -2.0357, -2.0357, -2.0357],\n",
       "          ...,\n",
       "          [ 2.0084,  2.0084,  1.9909,  ...,  2.4286,  2.4286,  2.4286],\n",
       "          [ 1.8158,  1.7983,  1.7808,  ...,  2.4286,  2.4286,  2.4286],\n",
       "          [ 1.5182,  1.5182,  1.5182,  ...,  2.4286,  2.4286,  2.4286]],\n",
       " \n",
       "         [[ 0.6705,  0.6705,  0.5485,  ..., -1.8044, -1.8044, -1.8044],\n",
       "          [ 0.7402,  0.6531,  0.4962,  ..., -1.8044, -1.8044, -1.8044],\n",
       "          [ 0.7402,  0.6182,  0.4788,  ..., -1.8044, -1.8044, -1.8044],\n",
       "          ...,\n",
       "          [ 2.2217,  2.2217,  2.2043,  ...,  2.6400,  2.6400,  2.6400],\n",
       "          [ 2.0300,  2.0125,  1.9951,  ...,  2.6400,  2.6400,  2.6400],\n",
       "          [ 1.7337,  1.7337,  1.7337,  ...,  2.6400,  2.6400,  2.6400]]]),\n",
       "     age  temperature  heartrate  resprate  o2sat    sbp   dbp  pain  acuity  \\\n",
       " 0  69.0         98.1       90.0      18.0   99.0  184.0  75.0  13.0     3.0   \n",
       " \n",
       "    gender  \n",
       " 0       0  ,\n",
       " tensor([[0, 0, 0, 1, 0, 0, 0, 0, 0, 0, 1, 0, 0, 0, 0, 0, 0, 0, 0, 0]]))"
      ]
     },
     "execution_count": 16,
     "metadata": {},
     "output_type": "execute_result"
    }
   ],
   "source": [
    "reflacx_dataset.__getitem__(0)"
   ]
  },
  {
   "cell_type": "code",
   "execution_count": 1,
   "metadata": {},
   "outputs": [
    {
     "name": "stderr",
     "output_type": "stream",
     "text": [
      "C:\\Users\\mike8\\anaconda3\\envs\\pytorch\\lib\\site-packages\\torchvision\\io\\image.py:11: UserWarning: Failed to load image Python extension: Could not find module 'C:\\Users\\mike8\\anaconda3\\envs\\pytorch\\Lib\\site-packages\\torchvision\\image.pyd' (or one of its dependencies). Try using the full path with constructor syntax.\n",
      "  warn(f\"Failed to load image Python extension: {e}\")\n"
     ]
    }
   ],
   "source": [
    "from data.dataset import REFLACXWithClinicalDataset"
   ]
  },
  {
   "cell_type": "code",
   "execution_count": 2,
   "metadata": {},
   "outputs": [
    {
     "name": "stderr",
     "output_type": "stream",
     "text": [
      "c:\\Users\\mike8\\Desktop\\Multimodal-XAI-Medical-Diagnosis-System\\data\\dataset.py:79: SettingWithCopyWarning: \n",
      "A value is trying to be set on a copy of a slice from a DataFrame.\n",
      "Try using .loc[row_indexer,col_indexer] = value instead\n",
      "\n",
      "See the caveats in the documentation: https://pandas.pydata.org/pandas-docs/stable/user_guide/indexing.html#returning-a-view-versus-a-copy\n",
      "  self.clinical_df[col] = le.fit_transform(self.clinical_df[col])\n"
     ]
    }
   ],
   "source": [
    "reflacx_dataset = REFLACXWithClinicalDataset()"
   ]
  },
  {
   "cell_type": "code",
   "execution_count": 3,
   "metadata": {},
   "outputs": [
    {
     "data": {
      "text/plain": [
       "(tensor([[[ 0.3138,  0.3138,  0.1939,  ..., -2.1179, -2.1179, -2.1179],\n",
       "          [ 0.3823,  0.2967,  0.1426,  ..., -2.1179, -2.1179, -2.1179],\n",
       "          [ 0.3823,  0.2624,  0.1254,  ..., -2.1179, -2.1179, -2.1179],\n",
       "          ...,\n",
       "          [ 1.8379,  1.8379,  1.8208,  ...,  2.2489,  2.2489,  2.2489],\n",
       "          [ 1.6495,  1.6324,  1.6153,  ...,  2.2489,  2.2489,  2.2489],\n",
       "          [ 1.3584,  1.3584,  1.3584,  ...,  2.2489,  2.2489,  2.2489]],\n",
       " \n",
       "         [[ 0.4503,  0.4503,  0.3277,  ..., -2.0357, -2.0357, -2.0357],\n",
       "          [ 0.5203,  0.4328,  0.2752,  ..., -2.0357, -2.0357, -2.0357],\n",
       "          [ 0.5203,  0.3978,  0.2577,  ..., -2.0357, -2.0357, -2.0357],\n",
       "          ...,\n",
       "          [ 2.0084,  2.0084,  1.9909,  ...,  2.4286,  2.4286,  2.4286],\n",
       "          [ 1.8158,  1.7983,  1.7808,  ...,  2.4286,  2.4286,  2.4286],\n",
       "          [ 1.5182,  1.5182,  1.5182,  ...,  2.4286,  2.4286,  2.4286]],\n",
       " \n",
       "         [[ 0.6705,  0.6705,  0.5485,  ..., -1.8044, -1.8044, -1.8044],\n",
       "          [ 0.7402,  0.6531,  0.4962,  ..., -1.8044, -1.8044, -1.8044],\n",
       "          [ 0.7402,  0.6182,  0.4788,  ..., -1.8044, -1.8044, -1.8044],\n",
       "          ...,\n",
       "          [ 2.2217,  2.2217,  2.2043,  ...,  2.6400,  2.6400,  2.6400],\n",
       "          [ 2.0300,  2.0125,  1.9951,  ...,  2.6400,  2.6400,  2.6400],\n",
       "          [ 1.7337,  1.7337,  1.7337,  ...,  2.6400,  2.6400,  2.6400]]]),\n",
       "     age  temperature  heartrate  resprate  o2sat    sbp   dbp  pain  acuity  \\\n",
       " 0  69.0         98.1       90.0      18.0   99.0  184.0  75.0  13.0     3.0   \n",
       " \n",
       "    gender  \n",
       " 0       0  ,\n",
       " tensor([[0, 0, 0, 1, 0, 0, 0, 0, 0, 0, 1, 0, 0, 0, 0, 0, 0, 0, 0, 0]]))"
      ]
     },
     "execution_count": 3,
     "metadata": {},
     "output_type": "execute_result"
    }
   ],
   "source": [
    "reflacx_dataset.__getitem__(0)"
   ]
  },
  {
   "cell_type": "code",
   "execution_count": null,
   "metadata": {},
   "outputs": [],
   "source": []
  }
 ],
 "metadata": {
  "interpreter": {
   "hash": "7a402e4e4296f2d4bed1c089fb7c7e828933dcbfe50698b381e393c052eea855"
  },
  "kernelspec": {
   "display_name": "Python 3.9.7 64-bit ('pytorch': conda)",
   "language": "python",
   "name": "python3"
  },
  "language_info": {
   "codemirror_mode": {
    "name": "ipython",
    "version": 3
   },
   "file_extension": ".py",
   "mimetype": "text/x-python",
   "name": "python",
   "nbconvert_exporter": "python",
   "pygments_lexer": "ipython3",
   "version": "3.9.7"
  },
  "orig_nbformat": 4
 },
 "nbformat": 4,
 "nbformat_minor": 2
}
