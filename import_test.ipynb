{
 "cells": [
  {
   "cell_type": "code",
   "execution_count": 4,
   "metadata": {},
   "outputs": [],
   "source": [
    "from data.dataset import REFLACXWithClinicalDataset\n"
   ]
  },
  {
   "cell_type": "code",
   "execution_count": 5,
   "metadata": {},
   "outputs": [
    {
     "name": "stdout",
     "output_type": "stream",
     "text": [
      "Positive Loss weight:\n",
      "[0.9940653  0.78635013 0.8338279  0.768546   0.9985163  1.\n",
      " 0.90949553 0.99703264 0.87388724 0.99554896 0.7166172  0.99554896\n",
      " 0.9703264  0.9940653  0.98219585 0.98961425 0.9718101  0.98367953\n",
      " 0.9376855  0.7937685 ]\n",
      "Negative Loss weight:\n",
      "[0.00593472 0.21364985 0.1661721  0.231454   0.00148368 0.\n",
      " 0.09050445 0.00296736 0.12611276 0.00445104 0.2833828  0.00445104\n",
      " 0.02967359 0.00593472 0.01780416 0.01038576 0.02818991 0.01632047\n",
      " 0.06231454 0.20623146]\n",
      "Random Loss:\n",
      "0.08506889533870689\n"
     ]
    }
   ],
   "source": [
    "# load the dataset\n",
    "reflacx_dataset = REFLACXWithClinicalDataset(image_size=256)\n"
   ]
  },
  {
   "cell_type": "code",
   "execution_count": 11,
   "metadata": {},
   "outputs": [
    {
     "data": {
      "text/plain": [
       "0.005934718100890208"
      ]
     },
     "execution_count": 11,
     "metadata": {},
     "output_type": "execute_result"
    }
   ],
   "source": [
    "reflacx_dataset.df['Airway wall thickening'].sum()/ len(reflacx_dataset.df)"
   ]
  },
  {
   "cell_type": "code",
   "execution_count": 6,
   "metadata": {},
   "outputs": [
    {
     "data": {
      "text/plain": [
       "['Airway wall thickening',\n",
       " 'Atelectasis',\n",
       " 'Consolidation',\n",
       " 'Enlarged cardiac silhouette',\n",
       " 'Fibrosis',\n",
       " 'Fracture',\n",
       " 'Groundglass opacity',\n",
       " 'Pneumothorax',\n",
       " 'Pulmonary edema',\n",
       " 'Quality issue',\n",
       " 'Support devices',\n",
       " 'Wide mediastinum',\n",
       " 'Abnormal mediastinal contour',\n",
       " 'Acute fracture',\n",
       " 'Enlarged hilum',\n",
       " 'Hiatal hernia',\n",
       " 'High lung volume / emphysema',\n",
       " 'Interstitial lung disease',\n",
       " 'Lung nodule or mass',\n",
       " 'Pleural abnormality']"
      ]
     },
     "execution_count": 6,
     "metadata": {},
     "output_type": "execute_result"
    }
   ],
   "source": [
    "for col in reflacx_dataset.labels_cols:\n",
    "    "
   ]
  },
  {
   "cell_type": "code",
   "execution_count": 13,
   "metadata": {},
   "outputs": [],
   "source": [
    "from libauc.datasets import CheXpert\n"
   ]
  },
  {
   "cell_type": "code",
   "execution_count": null,
   "metadata": {},
   "outputs": [],
   "source": [
    "traindSet = CheXpert(csv_path=root+'train.csv', image_root_path=root, use_upsampling=False, use_frontal=True, image_size=224, mode='train', class_index=-1)\n"
   ]
  }
 ],
 "metadata": {
  "interpreter": {
   "hash": "7a402e4e4296f2d4bed1c089fb7c7e828933dcbfe50698b381e393c052eea855"
  },
  "kernelspec": {
   "display_name": "Python 3.9.7 64-bit ('pytorch': conda)",
   "language": "python",
   "name": "python3"
  },
  "language_info": {
   "codemirror_mode": {
    "name": "ipython",
    "version": 3
   },
   "file_extension": ".py",
   "mimetype": "text/x-python",
   "name": "python",
   "nbconvert_exporter": "python",
   "pygments_lexer": "ipython3",
   "version": "3.9.7"
  },
  "orig_nbformat": 4
 },
 "nbformat": 4,
 "nbformat_minor": 2
}
