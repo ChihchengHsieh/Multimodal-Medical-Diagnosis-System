{
 "cells": [
  {
   "cell_type": "code",
   "execution_count": 1,
   "metadata": {},
   "outputs": [],
   "source": [
    "import os\n",
    "import pandas as pd\n",
    "import matplotlib.pyplot as plt\n",
    "\n",
    "from scipy import stats\n",
    "from utils.print import print_block\n",
    "from data.dataset import REFLACXWithClinicalDataset"
   ]
  },
  {
   "cell_type": "code",
   "execution_count": 2,
   "metadata": {},
   "outputs": [
    {
     "name": "stdout",
     "output_type": "stream",
     "text": [
      "Positive Loss weight:\n",
      "[0.768546   0.78635013 0.7937685  0.8338279  0.87388724]\n",
      "Negative Loss weight:\n",
      "[0.231454   0.21364985 0.20623146 0.1661721  0.12611276]\n",
      "Random Loss:\n",
      "0.21026036153991162\n"
     ]
    }
   ],
   "source": [
    "reflacx_dataset = REFLACXWithClinicalDataset(image_size=256)"
   ]
  },
  {
   "cell_type": "code",
   "execution_count": 3,
   "metadata": {},
   "outputs": [],
   "source": [
    "cxr_prefix = \"cxr\"\n",
    "cxr_clinical_prefix =\"cxr_clinical\"\n",
    "\n",
    "cxr_model_name = 'test_0_8162_epoch300_WithoutClincal_dim32_2022-02-07 21_43_31_353207'\n",
    "cxr_clinical_model_name = 'test_0_8260__epoch300_WithClincal_dim32_2022-02-08 10_03_56_953198'"
   ]
  },
  {
   "cell_type": "code",
   "execution_count": 4,
   "metadata": {},
   "outputs": [],
   "source": [
    "cxr_dfs = []\n",
    "cxr_clinical_dfs = []\n",
    "\n",
    "for id in list(reflacx_dataset.df['id']):\n",
    "    cxr_dfs.append(pd.read_csv(os.path.join(f\"{cxr_model_name}_result\", id, 'df.csv'), index_col=0))\n",
    "    cxr_clinical_dfs.append(pd.read_csv(os.path.join(f\"{cxr_clinical_model_name}_result\", id, 'df.csv'), index_col=0))    "
   ]
  },
  {
   "cell_type": "code",
   "execution_count": 5,
   "metadata": {},
   "outputs": [],
   "source": [
    "cxr_dfs = pd.concat(cxr_dfs, axis=0)\n",
    "cxr_clinical_df = pd.concat(cxr_clinical_dfs, axis=0)\n"
   ]
  },
  {
   "cell_type": "code",
   "execution_count": 6,
   "metadata": {},
   "outputs": [],
   "source": [
    "all_pred_cols = [ f\"pred_{col}\"  for col in reflacx_dataset.labels_cols]\n",
    "cxr_rename_map = {}\n",
    "for pred_col in all_pred_cols:\n",
    "    cxr_rename_map[pred_col] = f\"{cxr_prefix}_{pred_col}\""
   ]
  },
  {
   "cell_type": "code",
   "execution_count": 7,
   "metadata": {},
   "outputs": [],
   "source": [
    "combined_df = cxr_dfs.rename(cxr_rename_map,axis=1)"
   ]
  },
  {
   "cell_type": "code",
   "execution_count": 8,
   "metadata": {},
   "outputs": [],
   "source": [
    "for pred_col in all_pred_cols:\n",
    "    combined_df[f'{cxr_clinical_prefix}_{pred_col}'] = cxr_clinical_df[pred_col]"
   ]
  },
  {
   "cell_type": "code",
   "execution_count": 9,
   "metadata": {},
   "outputs": [
    {
     "data": {
      "text/html": [
       "<div>\n",
       "<style scoped>\n",
       "    .dataframe tbody tr th:only-of-type {\n",
       "        vertical-align: middle;\n",
       "    }\n",
       "\n",
       "    .dataframe tbody tr th {\n",
       "        vertical-align: top;\n",
       "    }\n",
       "\n",
       "    .dataframe thead th {\n",
       "        text-align: right;\n",
       "    }\n",
       "</style>\n",
       "<table border=\"1\" class=\"dataframe\">\n",
       "  <thead>\n",
       "    <tr style=\"text-align: right;\">\n",
       "      <th></th>\n",
       "      <th>index</th>\n",
       "      <th>id</th>\n",
       "      <th>dicom_id</th>\n",
       "      <th>subject_id</th>\n",
       "      <th>stay_id</th>\n",
       "      <th>study_id</th>\n",
       "      <th>split</th>\n",
       "      <th>image_path</th>\n",
       "      <th>ViewPosition</th>\n",
       "      <th>image_size_x</th>\n",
       "      <th>...</th>\n",
       "      <th>cxr_pred_Atelectasis</th>\n",
       "      <th>cxr_pred_Pleural abnormality</th>\n",
       "      <th>cxr_pred_Consolidation</th>\n",
       "      <th>cxr_pred_Pulmonary edema</th>\n",
       "      <th>loss</th>\n",
       "      <th>cxr_clinical_pred_Enlarged cardiac silhouette</th>\n",
       "      <th>cxr_clinical_pred_Atelectasis</th>\n",
       "      <th>cxr_clinical_pred_Pleural abnormality</th>\n",
       "      <th>cxr_clinical_pred_Consolidation</th>\n",
       "      <th>cxr_clinical_pred_Pulmonary edema</th>\n",
       "    </tr>\n",
       "  </thead>\n",
       "  <tbody>\n",
       "    <tr>\n",
       "      <th>0</th>\n",
       "      <td>0</td>\n",
       "      <td>P102R108387</td>\n",
       "      <td>34cedb74-d0996b40-6d218312-a9174bea-d48dc033</td>\n",
       "      <td>18111516</td>\n",
       "      <td>32067002</td>\n",
       "      <td>55032240</td>\n",
       "      <td>train</td>\n",
       "      <td>D:\\XAMI-MIMIC\\patient_18111516\\CXR-JPG\\s550322...</td>\n",
       "      <td>AP</td>\n",
       "      <td>2544</td>\n",
       "      <td>...</td>\n",
       "      <td>0.854474</td>\n",
       "      <td>0.008908</td>\n",
       "      <td>0.017632</td>\n",
       "      <td>0.075871</td>\n",
       "      <td>0.874296</td>\n",
       "      <td>0.967592</td>\n",
       "      <td>0.145157</td>\n",
       "      <td>0.042499</td>\n",
       "      <td>0.010186</td>\n",
       "      <td>0.195144</td>\n",
       "    </tr>\n",
       "    <tr>\n",
       "      <th>0</th>\n",
       "      <td>1</td>\n",
       "      <td>P102R379837</td>\n",
       "      <td>34cedb74-d0996b40-6d218312-a9174bea-d48dc033</td>\n",
       "      <td>18111516</td>\n",
       "      <td>32067002</td>\n",
       "      <td>55032240</td>\n",
       "      <td>train</td>\n",
       "      <td>D:\\XAMI-MIMIC\\patient_18111516\\CXR-JPG\\s550322...</td>\n",
       "      <td>AP</td>\n",
       "      <td>2544</td>\n",
       "      <td>...</td>\n",
       "      <td>0.854474</td>\n",
       "      <td>0.008908</td>\n",
       "      <td>0.017632</td>\n",
       "      <td>0.075871</td>\n",
       "      <td>0.874296</td>\n",
       "      <td>0.967592</td>\n",
       "      <td>0.145157</td>\n",
       "      <td>0.042499</td>\n",
       "      <td>0.010186</td>\n",
       "      <td>0.195144</td>\n",
       "    </tr>\n",
       "    <tr>\n",
       "      <th>0</th>\n",
       "      <td>2</td>\n",
       "      <td>P102R558314</td>\n",
       "      <td>34cedb74-d0996b40-6d218312-a9174bea-d48dc033</td>\n",
       "      <td>18111516</td>\n",
       "      <td>32067002</td>\n",
       "      <td>55032240</td>\n",
       "      <td>train</td>\n",
       "      <td>D:\\XAMI-MIMIC\\patient_18111516\\CXR-JPG\\s550322...</td>\n",
       "      <td>AP</td>\n",
       "      <td>2544</td>\n",
       "      <td>...</td>\n",
       "      <td>0.854474</td>\n",
       "      <td>0.008908</td>\n",
       "      <td>0.017632</td>\n",
       "      <td>0.075871</td>\n",
       "      <td>0.874296</td>\n",
       "      <td>0.967592</td>\n",
       "      <td>0.145157</td>\n",
       "      <td>0.042499</td>\n",
       "      <td>0.010186</td>\n",
       "      <td>0.195144</td>\n",
       "    </tr>\n",
       "    <tr>\n",
       "      <th>0</th>\n",
       "      <td>3</td>\n",
       "      <td>P102R765317</td>\n",
       "      <td>34cedb74-d0996b40-6d218312-a9174bea-d48dc033</td>\n",
       "      <td>18111516</td>\n",
       "      <td>32067002</td>\n",
       "      <td>55032240</td>\n",
       "      <td>train</td>\n",
       "      <td>D:\\XAMI-MIMIC\\patient_18111516\\CXR-JPG\\s550322...</td>\n",
       "      <td>AP</td>\n",
       "      <td>2544</td>\n",
       "      <td>...</td>\n",
       "      <td>0.854474</td>\n",
       "      <td>0.008908</td>\n",
       "      <td>0.017632</td>\n",
       "      <td>0.075871</td>\n",
       "      <td>0.372869</td>\n",
       "      <td>0.967592</td>\n",
       "      <td>0.145157</td>\n",
       "      <td>0.042499</td>\n",
       "      <td>0.010186</td>\n",
       "      <td>0.195144</td>\n",
       "    </tr>\n",
       "    <tr>\n",
       "      <th>0</th>\n",
       "      <td>4</td>\n",
       "      <td>P102R915878</td>\n",
       "      <td>34cedb74-d0996b40-6d218312-a9174bea-d48dc033</td>\n",
       "      <td>18111516</td>\n",
       "      <td>32067002</td>\n",
       "      <td>55032240</td>\n",
       "      <td>train</td>\n",
       "      <td>D:\\XAMI-MIMIC\\patient_18111516\\CXR-JPG\\s550322...</td>\n",
       "      <td>AP</td>\n",
       "      <td>2544</td>\n",
       "      <td>...</td>\n",
       "      <td>0.854474</td>\n",
       "      <td>0.008908</td>\n",
       "      <td>0.017632</td>\n",
       "      <td>0.075871</td>\n",
       "      <td>0.874296</td>\n",
       "      <td>0.967592</td>\n",
       "      <td>0.145157</td>\n",
       "      <td>0.042499</td>\n",
       "      <td>0.010186</td>\n",
       "      <td>0.195144</td>\n",
       "    </tr>\n",
       "  </tbody>\n",
       "</table>\n",
       "<p>5 rows × 53 columns</p>\n",
       "</div>"
      ],
      "text/plain": [
       "   index           id                                      dicom_id  \\\n",
       "0      0  P102R108387  34cedb74-d0996b40-6d218312-a9174bea-d48dc033   \n",
       "0      1  P102R379837  34cedb74-d0996b40-6d218312-a9174bea-d48dc033   \n",
       "0      2  P102R558314  34cedb74-d0996b40-6d218312-a9174bea-d48dc033   \n",
       "0      3  P102R765317  34cedb74-d0996b40-6d218312-a9174bea-d48dc033   \n",
       "0      4  P102R915878  34cedb74-d0996b40-6d218312-a9174bea-d48dc033   \n",
       "\n",
       "   subject_id   stay_id  study_id  split  \\\n",
       "0    18111516  32067002  55032240  train   \n",
       "0    18111516  32067002  55032240  train   \n",
       "0    18111516  32067002  55032240  train   \n",
       "0    18111516  32067002  55032240  train   \n",
       "0    18111516  32067002  55032240  train   \n",
       "\n",
       "                                          image_path ViewPosition  \\\n",
       "0  D:\\XAMI-MIMIC\\patient_18111516\\CXR-JPG\\s550322...           AP   \n",
       "0  D:\\XAMI-MIMIC\\patient_18111516\\CXR-JPG\\s550322...           AP   \n",
       "0  D:\\XAMI-MIMIC\\patient_18111516\\CXR-JPG\\s550322...           AP   \n",
       "0  D:\\XAMI-MIMIC\\patient_18111516\\CXR-JPG\\s550322...           AP   \n",
       "0  D:\\XAMI-MIMIC\\patient_18111516\\CXR-JPG\\s550322...           AP   \n",
       "\n",
       "   image_size_x  ...  cxr_pred_Atelectasis cxr_pred_Pleural abnormality  \\\n",
       "0          2544  ...              0.854474                     0.008908   \n",
       "0          2544  ...              0.854474                     0.008908   \n",
       "0          2544  ...              0.854474                     0.008908   \n",
       "0          2544  ...              0.854474                     0.008908   \n",
       "0          2544  ...              0.854474                     0.008908   \n",
       "\n",
       "   cxr_pred_Consolidation  cxr_pred_Pulmonary edema      loss  \\\n",
       "0                0.017632                  0.075871  0.874296   \n",
       "0                0.017632                  0.075871  0.874296   \n",
       "0                0.017632                  0.075871  0.874296   \n",
       "0                0.017632                  0.075871  0.372869   \n",
       "0                0.017632                  0.075871  0.874296   \n",
       "\n",
       "   cxr_clinical_pred_Enlarged cardiac silhouette  \\\n",
       "0                                       0.967592   \n",
       "0                                       0.967592   \n",
       "0                                       0.967592   \n",
       "0                                       0.967592   \n",
       "0                                       0.967592   \n",
       "\n",
       "   cxr_clinical_pred_Atelectasis  cxr_clinical_pred_Pleural abnormality  \\\n",
       "0                       0.145157                               0.042499   \n",
       "0                       0.145157                               0.042499   \n",
       "0                       0.145157                               0.042499   \n",
       "0                       0.145157                               0.042499   \n",
       "0                       0.145157                               0.042499   \n",
       "\n",
       "   cxr_clinical_pred_Consolidation  cxr_clinical_pred_Pulmonary edema  \n",
       "0                         0.010186                           0.195144  \n",
       "0                         0.010186                           0.195144  \n",
       "0                         0.010186                           0.195144  \n",
       "0                         0.010186                           0.195144  \n",
       "0                         0.010186                           0.195144  \n",
       "\n",
       "[5 rows x 53 columns]"
      ]
     },
     "execution_count": 9,
     "metadata": {},
     "output_type": "execute_result"
    }
   ],
   "source": [
    "combined_df.head(5)"
   ]
  },
  {
   "cell_type": "code",
   "execution_count": 10,
   "metadata": {},
   "outputs": [
    {
     "data": {
      "image/png": "[encoded data removed]",
      "text/plain": [
       "<Figure size 1440x2880 with 10 Axes>"
      ]
     },
     "metadata": {
      "needs_background": "light"
     },
     "output_type": "display_data"
    }
   ],
   "source": [
    "# Checking the normality by hist.\n",
    "fig, subplots = plt.subplots(len(reflacx_dataset.labels_cols), 2, figsize=(20, 40))\n",
    "\n",
    "for idx, d in enumerate(reflacx_dataset.labels_cols):\n",
    "    subplots[idx, 0].set_title(f\"{d} (CXR)\")\n",
    "    subplots[idx, 0].hist(combined_df[f'{cxr_prefix}_pred_{d}'])\n",
    "    subplots[idx, 1].set_title(f\"{d} (CXR + clinical)\")\n",
    "    subplots[idx, 1].hist(combined_df[f'{cxr_clinical_prefix}_pred_{d}'])"
   ]
  },
  {
   "cell_type": "code",
   "execution_count": 11,
   "metadata": {},
   "outputs": [
    {
     "name": "stdout",
     "output_type": "stream",
     "text": [
      "\n",
      "====================Enlarged cardiac silhouette (Shapiro-Wilk test)====================\n",
      "| CXR 1.1592606269006379e-32 | CXR+Cinical 1.6149051888065563e-31 \n",
      "=======================================================================================\n",
      "\n",
      "====================Atelectasis (Shapiro-Wilk test)====================\n",
      "| CXR 8.29547491849865e-31 | CXR+Cinical 5.298611903739686e-32 \n",
      "=======================================================================\n",
      "\n",
      "====================Pleural abnormality (Shapiro-Wilk test)====================\n",
      "| CXR 1.9499901556144084e-35 | CXR+Cinical 3.230953670765562e-34 \n",
      "===============================================================================\n",
      "\n",
      "====================Consolidation (Shapiro-Wilk test)====================\n",
      "| CXR 2.27368272892248e-34 | CXR+Cinical 4.958330974558001e-32 \n",
      "=========================================================================\n",
      "\n",
      "====================Pulmonary edema (Shapiro-Wilk test)====================\n",
      "| CXR 1.4272577762153517e-35 | CXR+Cinical 1.137595119907991e-31 \n",
      "===========================================================================\n"
     ]
    }
   ],
   "source": [
    "# Shapiro-Wilk test (Check normality)\n",
    "for d in reflacx_dataset.labels_cols:\n",
    "    _, cxr_p =stats.shapiro(combined_df[f'{cxr_prefix}_pred_{d}'])\n",
    "    _, cxr_clinical_p = stats.shapiro(combined_df[f'{cxr_clinical_prefix}_pred_{d}'])\n",
    "\n",
    "    print_block(f\"CXR {cxr_p} | CXR+Cinical {cxr_clinical_p}\",title=f'{d} (Shapiro-Wilk test)')\n",
    "    "
   ]
  },
  {
   "cell_type": "code",
   "execution_count": 12,
   "metadata": {},
   "outputs": [
    {
     "name": "stdout",
     "output_type": "stream",
     "text": [
      "\n",
      "====================Enlarged cardiac silhouette (Wilcoxon signed-rank Test)====================\n",
      "| WilcoxonResult(statistic=98798.0, pvalue=0.003133811021395899) \n",
      "===============================================================================================\n",
      "\n",
      "====================Atelectasis (Wilcoxon signed-rank Test)====================\n",
      "| WilcoxonResult(statistic=47105.0, pvalue=1.1961509278167424e-39) \n",
      "===============================================================================\n",
      "\n",
      "====================Pleural abnormality (Wilcoxon signed-rank Test)====================\n",
      "| WilcoxonResult(statistic=100796.0, pvalue=0.010491577080005799) \n",
      "=======================================================================================\n",
      "\n",
      "====================Consolidation (Wilcoxon signed-rank Test)====================\n",
      "| WilcoxonResult(statistic=76181.0, pvalue=1.112328003694171e-13) \n",
      "=================================================================================\n",
      "\n",
      "====================Pulmonary edema (Wilcoxon signed-rank Test)====================\n",
      "| WilcoxonResult(statistic=71095.0, pvalue=3.3810150502057006e-17) \n",
      "===================================================================================\n"
     ]
    }
   ],
   "source": [
    "# Wilcoxon signed-rank Test\n",
    "for d in reflacx_dataset.labels_cols:\n",
    "    ttest_result = stats.wilcoxon(combined_df[f'{cxr_prefix}_pred_{d}'], combined_df[f'{cxr_clinical_prefix}_pred_{d}'])\n",
    "    print_block(str(ttest_result), title=f'{d} (Wilcoxon signed-rank Test)')\n"
   ]
  },
  {
   "cell_type": "code",
   "execution_count": 13,
   "metadata": {},
   "outputs": [
    {
     "name": "stdout",
     "output_type": "stream",
     "text": [
      "\n",
      "====================Enlarged cardiac silhouette (Pair Samples t-test)====================\n",
      "| Ttest_relResult(statistic=4.85262897683278, pvalue=1.5154657290024969e-06) \n",
      "=========================================================================================\n",
      "\n",
      "====================Atelectasis (Pair Samples t-test)====================\n",
      "| Ttest_relResult(statistic=10.999099499365004, pvalue=5.419094000481606e-26) \n",
      "=========================================================================\n",
      "\n",
      "====================Pleural abnormality (Pair Samples t-test)====================\n",
      "| Ttest_relResult(statistic=4.575660036212734, pvalue=5.652733044087444e-06) \n",
      "=================================================================================\n",
      "\n",
      "====================Consolidation (Pair Samples t-test)====================\n",
      "| Ttest_relResult(statistic=2.300830552310817, pvalue=0.02170604114354255) \n",
      "===========================================================================\n",
      "\n",
      "====================Pulmonary edema (Pair Samples t-test)====================\n",
      "| Ttest_relResult(statistic=-7.549792674660103, pvalue=1.4231783157327505e-13) \n",
      "=============================================================================\n"
     ]
    }
   ],
   "source": [
    "# Pair Samples t-test\n",
    "for d in reflacx_dataset.labels_cols:\n",
    "    ttest_result = stats.ttest_rel(combined_df[f'{cxr_prefix}_pred_{d}'], combined_df[f'{cxr_clinical_prefix}_pred_{d}'])\n",
    "    print_block(str(ttest_result), title=f'{d} (Pair Samples t-test)')\n"
   ]
  },
  {
   "cell_type": "code",
   "execution_count": null,
   "metadata": {},
   "outputs": [],
   "source": []
  }
 ],
 "metadata": {
  "interpreter": {
   "hash": "7a402e4e4296f2d4bed1c089fb7c7e828933dcbfe50698b381e393c052eea855"
  },
  "kernelspec": {
   "display_name": "Python 3.9.7 ('pytorch')",
   "language": "python",
   "name": "python3"
  },
  "language_info": {
   "codemirror_mode": {
    "name": "ipython",
    "version": 3
   },
   "file_extension": ".py",
   "mimetype": "text/x-python",
   "name": "python",
   "nbconvert_exporter": "python",
   "pygments_lexer": "ipython3",
   "version": "3.9.7"
  },
  "orig_nbformat": 4
 },
 "nbformat": 4,
 "nbformat_minor": 2
}
